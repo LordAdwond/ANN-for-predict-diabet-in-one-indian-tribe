{
 "cells": [
  {
   "cell_type": "code",
   "execution_count": 1,
   "metadata": {},
   "outputs": [],
   "source": [
    "import pandas as pd\n",
    "import numpy as np"
   ]
  },
  {
   "cell_type": "code",
   "execution_count": 2,
   "metadata": {},
   "outputs": [],
   "source": [
    "X = pd.read_csv(\"X.csv\")\n",
    "y = pd.read_csv(\"y.csv\")"
   ]
  },
  {
   "cell_type": "code",
   "execution_count": 4,
   "metadata": {},
   "outputs": [
    {
     "name": "stdout",
     "output_type": "stream",
     "text": [
      "6\n"
     ]
    }
   ],
   "source": [
    "print(len(X.columns))"
   ]
  },
  {
   "cell_type": "code",
   "execution_count": 9,
   "metadata": {},
   "outputs": [
    {
     "name": "stdout",
     "output_type": "stream",
     "text": [
      "Index(['Unnamed: 0', 'Outcome'], dtype='object')\n"
     ]
    }
   ],
   "source": [
    "print(y.columns)"
   ]
  },
  {
   "cell_type": "code",
   "execution_count": 3,
   "metadata": {},
   "outputs": [],
   "source": [
    "from sklearn.neural_network import MLPClassifier"
   ]
  },
  {
   "cell_type": "code",
   "execution_count": 19,
   "metadata": {},
   "outputs": [
    {
     "name": "stdout",
     "output_type": "stream",
     "text": [
      "[[2, 2], [2, 3], [2, 4], [3, 2], [3, 3], [3, 4], [4, 2], [4, 3], [4, 4]]\n"
     ]
    }
   ],
   "source": [
    "hidden_layers_list = [ [i, j] for i in range(2, 5) for j in range(2, 5) ]\n",
    "print(hidden_layers_list)"
   ]
  },
  {
   "cell_type": "code",
   "execution_count": 24,
   "metadata": {},
   "outputs": [],
   "source": [
    "MLPs = [(hidden_layers_list[i], MLPClassifier(hidden_layers_list[i], activation=\"tanh\").fit(X, y['Outcome'])) for i in range(len(hidden_layers_list))]"
   ]
  },
  {
   "cell_type": "code",
   "execution_count": 11,
   "metadata": {},
   "outputs": [],
   "source": [
    "from sklearn import metrics"
   ]
  },
  {
   "cell_type": "code",
   "execution_count": 25,
   "metadata": {},
   "outputs": [
    {
     "name": "stdout",
     "output_type": "stream",
     "text": [
      "Accuracy\n",
      "\n",
      "[2, 2] E=0.6549479166666666\n",
      "[2, 3] E=0.6783854166666666\n",
      "[2, 4] E=0.6510416666666666\n",
      "[3, 2] E=0.65625\n",
      "[3, 3] E=0.6510416666666666\n",
      "[3, 4] E=0.65625\n",
      "[4, 2] E=0.66796875\n",
      "[4, 3] E=0.6549479166666666\n",
      "[4, 4] E=0.6458333333333334\n"
     ]
    }
   ],
   "source": [
    "print(\"Accuracy\\n\")\n",
    "for MLP in MLPs:\n",
    "    print(str(MLP[0])+\" E=\"+str(metrics.accuracy_score(y['Outcome'], MLP[1].predict(X))))"
   ]
  },
  {
   "cell_type": "code",
   "execution_count": 18,
   "metadata": {},
   "outputs": [
    {
     "name": "stdout",
     "output_type": "stream",
     "text": [
      "[[2, 2, 2], [2, 2, 3], [2, 3, 2], [2, 3, 3], [3, 2, 2], [3, 2, 3], [3, 3, 2], [3, 3, 3]]\n"
     ]
    }
   ],
   "source": [
    "hidden_layers_list_2 = [ [i, j, k] for i in range(2, 4) for j in range(2, 4) for k in range(2, 4) ]\n",
    "print(hidden_layers_list)"
   ]
  },
  {
   "cell_type": "code",
   "execution_count": 26,
   "metadata": {},
   "outputs": [],
   "source": [
    "MLPs_2 = [(hidden_layers_list_2[i], MLPClassifier(hidden_layers_list_2[i], activation=\"logistic\", max_iter=25000).fit(X, y['Outcome'])) for i in range(len(hidden_layers_list_2))]"
   ]
  },
  {
   "cell_type": "code",
   "execution_count": 27,
   "metadata": {},
   "outputs": [
    {
     "name": "stdout",
     "output_type": "stream",
     "text": [
      "Accuracy\n",
      "\n",
      "[2, 2, 2] E=0.6510416666666666\n",
      "[2, 2, 3] E=0.6510416666666666\n",
      "[2, 3, 2] E=0.6510416666666666\n",
      "[2, 3, 3] E=0.6510416666666666\n",
      "[3, 2, 2] E=0.6510416666666666\n",
      "[3, 2, 3] E=0.6510416666666666\n",
      "[3, 3, 2] E=0.6510416666666666\n",
      "[3, 3, 3] E=0.6510416666666666\n"
     ]
    }
   ],
   "source": [
    "print(\"Accuracy\\n\")\n",
    "for MLP in MLPs_2:\n",
    "    print(str(MLP[0])+\" E=\"+str(metrics.accuracy_score(y['Outcome'], MLP[1].predict(X))))"
   ]
  },
  {
   "cell_type": "code",
   "execution_count": null,
   "metadata": {},
   "outputs": [],
   "source": []
  }
 ],
 "metadata": {
  "kernelspec": {
   "display_name": "Python 3",
   "language": "python",
   "name": "python3"
  },
  "language_info": {
   "codemirror_mode": {
    "name": "ipython",
    "version": 3
   },
   "file_extension": ".py",
   "mimetype": "text/x-python",
   "name": "python",
   "nbconvert_exporter": "python",
   "pygments_lexer": "ipython3",
   "version": "3.9.0"
  }
 },
 "nbformat": 4,
 "nbformat_minor": 4
}
