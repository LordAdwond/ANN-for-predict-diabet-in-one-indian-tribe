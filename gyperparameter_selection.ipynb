{
 "cells": [
  {
   "cell_type": "code",
   "execution_count": 1,
   "metadata": {},
   "outputs": [],
   "source": [
    "import pandas as pd\n",
    "import numpy as np"
   ]
  },
  {
   "cell_type": "code",
   "execution_count": 2,
   "metadata": {},
   "outputs": [],
   "source": [
    "X = pd.read_csv(\"X.csv\")\n",
    "y = pd.read_csv(\"y.csv\")"
   ]
  },
  {
   "cell_type": "code",
   "execution_count": 3,
   "metadata": {},
   "outputs": [
    {
     "name": "stdout",
     "output_type": "stream",
     "text": [
      "6\n"
     ]
    }
   ],
   "source": [
    "print(len(X.columns))"
   ]
  },
  {
   "cell_type": "code",
   "execution_count": 4,
   "metadata": {},
   "outputs": [
    {
     "name": "stdout",
     "output_type": "stream",
     "text": [
      "Index(['Unnamed: 0', 'Outcome'], dtype='object')\n"
     ]
    }
   ],
   "source": [
    "print(y.columns)"
   ]
  },
  {
   "cell_type": "code",
   "execution_count": 5,
   "metadata": {},
   "outputs": [],
   "source": [
    "from sklearn.neural_network import MLPRegressor"
   ]
  },
  {
   "cell_type": "code",
   "execution_count": 14,
   "metadata": {},
   "outputs": [
    {
     "name": "stdout",
     "output_type": "stream",
     "text": [
      "[[2, 2], [2, 3], [2, 4], [2, 5], [3, 2], [3, 3], [3, 4], [3, 5], [4, 2], [4, 3], [4, 4], [4, 5], [5, 2], [5, 3], [5, 4], [5, 5]]\n"
     ]
    }
   ],
   "source": [
    "hidden_layers_list = [ [i, j] for i in range(2, 6) for j in range(2, 6) ]\n",
    "print(hidden_layers_list)"
   ]
  },
  {
   "cell_type": "code",
   "execution_count": 16,
   "metadata": {},
   "outputs": [
    {
     "name": "stderr",
     "output_type": "stream",
     "text": [
      "c:\\users\\lord adwond\\appdata\\local\\programs\\python\\python39\\lib\\site-packages\\sklearn\\neural_network\\_multilayer_perceptron.py:614: ConvergenceWarning: Stochastic Optimizer: Maximum iterations (200) reached and the optimization hasn't converged yet.\n",
      "  warnings.warn(\n",
      "c:\\users\\lord adwond\\appdata\\local\\programs\\python\\python39\\lib\\site-packages\\sklearn\\neural_network\\_multilayer_perceptron.py:614: ConvergenceWarning: Stochastic Optimizer: Maximum iterations (200) reached and the optimization hasn't converged yet.\n",
      "  warnings.warn(\n",
      "c:\\users\\lord adwond\\appdata\\local\\programs\\python\\python39\\lib\\site-packages\\sklearn\\neural_network\\_multilayer_perceptron.py:614: ConvergenceWarning: Stochastic Optimizer: Maximum iterations (200) reached and the optimization hasn't converged yet.\n",
      "  warnings.warn(\n"
     ]
    }
   ],
   "source": [
    "MLPs = [(hidden_layers_list[i], MLPRegressor(hidden_layers_list[i], activation=\"tanh\").fit(X, y['Outcome'])) for i in range(len(hidden_layers_list))]"
   ]
  },
  {
   "cell_type": "code",
   "execution_count": 8,
   "metadata": {},
   "outputs": [],
   "source": [
    "from sklearn import metrics"
   ]
  },
  {
   "cell_type": "code",
   "execution_count": 17,
   "metadata": {},
   "outputs": [
    {
     "name": "stdout",
     "output_type": "stream",
     "text": [
      "Accuracy\n",
      "\n",
      "[2, 2] E=0.2299627671911715\n",
      "[2, 3] E=0.22602305388711896\n",
      "[2, 4] E=0.26361782305808745\n",
      "[2, 5] E=0.26775769952459644\n",
      "[3, 2] E=0.25607472613252197\n",
      "[3, 3] E=0.23781996382736778\n",
      "[3, 4] E=0.229150907568615\n",
      "[3, 5] E=0.22291065949274405\n",
      "[4, 2] E=0.24423490729024352\n",
      "[4, 3] E=0.2750932201312752\n",
      "[4, 4] E=0.22573487174208204\n",
      "[4, 5] E=0.22922800223976159\n",
      "[5, 2] E=0.22471563997264843\n",
      "[5, 3] E=0.22747124226318824\n",
      "[5, 4] E=0.22230129632178322\n",
      "[5, 5] E=0.2274430399487394\n"
     ]
    }
   ],
   "source": [
    "print(\"Accuracy\\n\")\n",
    "for MLP in MLPs:\n",
    "    print(str(MLP[0])+\" E=\"+str(metrics.mean_squared_error(y['Outcome'], MLP[1].predict(X))))"
   ]
  },
  {
   "cell_type": "code",
   "execution_count": 19,
   "metadata": {},
   "outputs": [
    {
     "name": "stdout",
     "output_type": "stream",
     "text": [
      "[[2, 2, 2], [2, 2, 3], [2, 2, 4], [2, 2, 5], [2, 3, 2], [2, 3, 3], [2, 3, 4], [2, 3, 5], [2, 4, 2], [2, 4, 3], [2, 4, 4], [2, 4, 5], [2, 5, 2], [2, 5, 3], [2, 5, 4], [2, 5, 5], [3, 2, 2], [3, 2, 3], [3, 2, 4], [3, 2, 5], [3, 3, 2], [3, 3, 3], [3, 3, 4], [3, 3, 5], [3, 4, 2], [3, 4, 3], [3, 4, 4], [3, 4, 5], [3, 5, 2], [3, 5, 3], [3, 5, 4], [3, 5, 5], [4, 2, 2], [4, 2, 3], [4, 2, 4], [4, 2, 5], [4, 3, 2], [4, 3, 3], [4, 3, 4], [4, 3, 5], [4, 4, 2], [4, 4, 3], [4, 4, 4], [4, 4, 5], [4, 5, 2], [4, 5, 3], [4, 5, 4], [4, 5, 5], [5, 2, 2], [5, 2, 3], [5, 2, 4], [5, 2, 5], [5, 3, 2], [5, 3, 3], [5, 3, 4], [5, 3, 5], [5, 4, 2], [5, 4, 3], [5, 4, 4], [5, 4, 5], [5, 5, 2], [5, 5, 3], [5, 5, 4], [5, 5, 5]]\n"
     ]
    }
   ],
   "source": [
    "hidden_layers_list_2 = [ [i, j, k] for i in range(2, 6) for j in range(2, 6) for k in range(2, 6) ]\n",
    "print(hidden_layers_list_2)"
   ]
  },
  {
   "cell_type": "code",
   "execution_count": 20,
   "metadata": {},
   "outputs": [],
   "source": [
    "MLPs_2 = [(hidden_layers_list_2[i], MLPRegressor(hidden_layers_list_2[i], activation=\"logistic\", max_iter=25000).fit(X, y['Outcome'])) for i in range(len(hidden_layers_list_2))]"
   ]
  },
  {
   "cell_type": "code",
   "execution_count": 21,
   "metadata": {},
   "outputs": [
    {
     "name": "stdout",
     "output_type": "stream",
     "text": [
      "Accuracy\n",
      "\n",
      "[2, 2, 2] E=0.22822623265601683\n",
      "[2, 2, 3] E=0.22765613467956944\n",
      "[2, 2, 4] E=0.22718409250337465\n",
      "[2, 2, 5] E=0.22644020727219227\n",
      "[2, 3, 2] E=0.227509996518637\n",
      "[2, 3, 3] E=0.22712765883168876\n",
      "[2, 3, 4] E=0.22689342217590283\n",
      "[2, 3, 5] E=0.2272968079698878\n",
      "[2, 4, 2] E=0.2267422233772031\n",
      "[2, 4, 3] E=0.22715198376585255\n",
      "[2, 4, 4] E=0.2269007445342668\n",
      "[2, 4, 5] E=0.22762024006279638\n",
      "[2, 5, 2] E=0.22682611451566506\n",
      "[2, 5, 3] E=0.22615128716944852\n",
      "[2, 5, 4] E=0.22811217440269607\n",
      "[2, 5, 5] E=0.22717232947432744\n",
      "[3, 2, 2] E=0.2285561195341387\n",
      "[3, 2, 3] E=0.22715758526000354\n",
      "[3, 2, 4] E=0.2274964697635613\n",
      "[3, 2, 5] E=0.22713308562330692\n",
      "[3, 3, 2] E=0.22797438451266547\n",
      "[3, 3, 3] E=0.22719481916749654\n",
      "[3, 3, 4] E=0.2271163402434535\n",
      "[3, 3, 5] E=0.22761801171831664\n",
      "[3, 4, 2] E=0.22709428447478466\n",
      "[3, 4, 3] E=0.2232608944600308\n",
      "[3, 4, 4] E=0.22675978173708256\n",
      "[3, 4, 5] E=0.22823759764901477\n",
      "[3, 5, 2] E=0.22701272224205427\n",
      "[3, 5, 3] E=0.2271585462055148\n",
      "[3, 5, 4] E=0.22756604862081806\n",
      "[3, 5, 5] E=0.22726777942398405\n",
      "[4, 2, 2] E=0.22714427414114816\n",
      "[4, 2, 3] E=0.22771368407822049\n",
      "[4, 2, 4] E=0.21965934287305802\n",
      "[4, 2, 5] E=0.22699717180533685\n",
      "[4, 3, 2] E=0.2276278634850908\n",
      "[4, 3, 3] E=0.22701461774833712\n",
      "[4, 3, 4] E=0.23314922155323062\n",
      "[4, 3, 5] E=0.22719987409219786\n",
      "[4, 4, 2] E=0.23000631474453925\n",
      "[4, 4, 3] E=0.2276071453627325\n",
      "[4, 4, 4] E=0.2272199206393178\n",
      "[4, 4, 5] E=0.22784197419116173\n",
      "[4, 5, 2] E=0.2297521076219521\n",
      "[4, 5, 3] E=0.22706461190549765\n",
      "[4, 5, 4] E=0.22713531631029263\n",
      "[4, 5, 5] E=0.22754669789798357\n",
      "[5, 2, 2] E=0.22739576925977234\n",
      "[5, 2, 3] E=0.22793906522874882\n",
      "[5, 2, 4] E=0.22783724514223422\n",
      "[5, 2, 5] E=0.22698861888787403\n",
      "[5, 3, 2] E=0.22976787054745654\n",
      "[5, 3, 3] E=0.22553788503125524\n",
      "[5, 3, 4] E=0.22767364644349689\n",
      "[5, 3, 5] E=0.22720340428491223\n",
      "[5, 4, 2] E=0.22815518846022484\n",
      "[5, 4, 3] E=0.2256005545044585\n",
      "[5, 4, 4] E=0.22817804003411893\n",
      "[5, 4, 5] E=0.227261593620101\n",
      "[5, 5, 2] E=0.22745017031701883\n",
      "[5, 5, 3] E=0.2257499100441965\n",
      "[5, 5, 4] E=0.22685544379735764\n",
      "[5, 5, 5] E=0.2267022242943708\n"
     ]
    }
   ],
   "source": [
    "print(\"Accuracy\\n\")\n",
    "for MLP in MLPs_2:\n",
    "    print(str(MLP[0])+\" E=\"+str(metrics.mean_squared_error(y['Outcome'], MLP[1].predict(X))))"
   ]
  },
  {
   "cell_type": "code",
   "execution_count": null,
   "metadata": {},
   "outputs": [],
   "source": []
  }
 ],
 "metadata": {
  "kernelspec": {
   "display_name": "Python 3",
   "language": "python",
   "name": "python3"
  },
  "language_info": {
   "codemirror_mode": {
    "name": "ipython",
    "version": 3
   },
   "file_extension": ".py",
   "mimetype": "text/x-python",
   "name": "python",
   "nbconvert_exporter": "python",
   "pygments_lexer": "ipython3",
   "version": "3.9.0"
  }
 },
 "nbformat": 4,
 "nbformat_minor": 4
}
